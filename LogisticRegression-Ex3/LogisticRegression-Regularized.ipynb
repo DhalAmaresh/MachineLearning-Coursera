{
 "cells": [
  {
   "cell_type": "code",
   "execution_count": 1,
   "metadata": {
    "collapsed": true
   },
   "outputs": [],
   "source": [
    "import matplotlib.pyplot as plt\n",
    "import pandas as pd\n",
    "import numpy as np\n",
    "#do plotting inline instead of in a seperate window.\n",
    "%matplotlib inline"
   ]
  },
  {
   "cell_type": "code",
   "execution_count": 2,
   "metadata": {
    "collapsed": false
   },
   "outputs": [
    {
     "data": {
      "text/html": [
       "<div>\n",
       "<table border=\"1\" class=\"dataframe\">\n",
       "  <thead>\n",
       "    <tr style=\"text-align: right;\">\n",
       "      <th></th>\n",
       "      <th>exam1</th>\n",
       "      <th>exam2</th>\n",
       "      <th>Result</th>\n",
       "    </tr>\n",
       "  </thead>\n",
       "  <tbody>\n",
       "    <tr>\n",
       "      <th>0</th>\n",
       "      <td>0.051267</td>\n",
       "      <td>0.69956</td>\n",
       "      <td>1</td>\n",
       "    </tr>\n",
       "    <tr>\n",
       "      <th>1</th>\n",
       "      <td>-0.092742</td>\n",
       "      <td>0.68494</td>\n",
       "      <td>1</td>\n",
       "    </tr>\n",
       "  </tbody>\n",
       "</table>\n",
       "</div>"
      ],
      "text/plain": [
       "      exam1    exam2  Result\n",
       "0  0.051267  0.69956       1\n",
       "1 -0.092742  0.68494       1"
      ]
     },
     "execution_count": 2,
     "metadata": {},
     "output_type": "execute_result"
    }
   ],
   "source": [
    "df = pd.read_csv(\"C:\\\\Users\\\\dhala\\\\Desktop\\\\Coursera\\\\ML-Week3\\\\ex2\\\\ex2data2.txt\",names =['exam1','exam2','Result'])\n",
    "df.shape\n",
    "df.head(2)"
   ]
  },
  {
   "cell_type": "code",
   "execution_count": 3,
   "metadata": {
    "collapsed": false
   },
   "outputs": [],
   "source": [
    "#data2 = pd.read_csv(\"C:\\\\Users\\\\dhala\\\\Desktop\\\\Coursera\\\\ML-Week3\\\\ex2\\\\ex2data2.txt\",names =['exam1','exam2','Result'])\n",
    "#degree = 7 \n",
    "#x1 = data2['exam1']  \n",
    "#x2 = data2['exam2']\n",
    "#data2.insert(3, 'Ones', 1)\n",
    "#for i in range(1, degree):  \n",
    "#    for j in range(0, i):\n",
    "#        data2['F' + str(i) + str(j)] = np.power(x1, i-j) * np.power(x2, j)\n",
    "\n",
    "#data2.drop('exam1', axis=1, inplace=True)  \n",
    "#data2.drop('exam2', axis=1, inplace=True)\n",
    "\n",
    "#data2.head()"
   ]
  },
  {
   "cell_type": "code",
   "execution_count": 4,
   "metadata": {
    "collapsed": false
   },
   "outputs": [
    {
     "data": {
      "text/plain": [
       "<matplotlib.text.Text at 0x1ef85bed8d0>"
      ]
     },
     "execution_count": 4,
     "metadata": {},
     "output_type": "execute_result"
    },
    {
     "data": {
      "image/png": "[encoded data removed]",
      "text/plain": [
       "<matplotlib.figure.Figure at 0x1ef85b59cf8>"
      ]
     },
     "metadata": {},
     "output_type": "display_data"
    }
   ],
   "source": [
    "positive = df[df['Result'] == 1]\n",
    "negative = df[df['Result'] == 0]\n",
    "\n",
    "fig, ax = plt.subplots()\n",
    "ax.scatter(positive['exam1'], positive['exam2'], s=50, c='b', marker='o', label='Admitted')\n",
    "ax.scatter(negative['exam1'], negative['exam2'], s=50, c='r', marker='x', label='Not Admitted')\n",
    "ax.legend()\n",
    "ax.set_xlabel('Exam 1 Score')\n",
    "ax.set_ylabel('Exam 2 Score')"
   ]
  },
  {
   "cell_type": "code",
   "execution_count": 5,
   "metadata": {
    "collapsed": false
   },
   "outputs": [],
   "source": [
    "df['Name'] = 1\n",
    "data = {'Bias':df['Name'],'exam1':df['exam1'],'exam2':df['exam2'],'Result':df['Result']}\n",
    "df = pd.DataFrame(data)\n",
    "X = df.as_matrix(columns = ['Bias','exam1','exam2'])\n",
    "y = df.as_matrix(columns = ['Result'])\n",
    "\n",
    "\n",
    "\n"
   ]
  },
  {
   "cell_type": "code",
   "execution_count": 59,
   "metadata": {
    "collapsed": false
   },
   "outputs": [
    {
     "name": "stdout",
     "output_type": "stream",
     "text": [
      "118\n",
      "118\n",
      "(28, 1)\n"
     ]
    }
   ],
   "source": [
    "data = pd.read_csv(\"C:\\\\Users\\\\dhala\\\\Desktop\\\\Coursera\\\\ML-Week3\\\\ex2\\\\ex2data2.txt\", header = None)\n",
    "data = np.array(data)\n",
    "X = data[:, [0,1]] \n",
    "y = data[:, [2]]\n",
    "x_size = X[:,0].shape[0]\n",
    "\n",
    "X1 = X[:,0]\n",
    "X1 = X1.reshape(x_size, 1)\n",
    "\n",
    "X2 = X[:,1]\n",
    "X2 = X2.reshape(x_size, 1)\n",
    "\n",
    "print(X1.size)\n",
    "print(X2.size)\n",
    "\n",
    "def mapFeature(X1, X2):\n",
    "    degree = 6\n",
    "    out = np.ones((X1.shape[0], 1))\n",
    "    for i in range(1, degree+1):\n",
    "        for j in range (0, i+1):\n",
    "            out1 = np.power(X1, (i-j))\n",
    "            out2 = np.power(X2, j)\n",
    "            out = np.concatenate((out,out1*out2),axis=1)\n",
    "    return out\n",
    "\n",
    "X = mapFeature(X1, X2)\n",
    "initial_theta = np.zeros((X.shape[1],1))\n",
    "print(initial_theta.shape)"
   ]
  },
  {
   "cell_type": "code",
   "execution_count": 7,
   "metadata": {
    "collapsed": false
   },
   "outputs": [
    {
     "ename": "NameError",
     "evalue": "name 'df2' is not defined",
     "output_type": "error",
     "traceback": [
      "\u001b[0;31m---------------------------------------------------------------------------\u001b[0m",
      "\u001b[0;31mNameError\u001b[0m                                 Traceback (most recent call last)",
      "\u001b[0;32m<ipython-input-7-9b369f95f228>\u001b[0m in \u001b[0;36m<module>\u001b[0;34m()\u001b[0m\n\u001b[0;32m----> 1\u001b[0;31m \u001b[0mdf2\u001b[0m\u001b[1;33m.\u001b[0m\u001b[0mhead\u001b[0m\u001b[1;33m(\u001b[0m\u001b[1;36m3\u001b[0m\u001b[1;33m)\u001b[0m\u001b[1;33m\u001b[0m\u001b[0m\n\u001b[0m",
      "\u001b[0;31mNameError\u001b[0m: name 'df2' is not defined"
     ]
    }
   ],
   "source": [
    "df2.head(3)"
   ]
  },
  {
   "cell_type": "code",
   "execution_count": 18,
   "metadata": {
    "collapsed": true
   },
   "outputs": [],
   "source": [
    "def sigmoid(Z):\n",
    "    return 1/(1+ np.exp(-Z))"
   ]
  },
  {
   "cell_type": "code",
   "execution_count": 19,
   "metadata": {
    "collapsed": false
   },
   "outputs": [],
   "source": [
    "def costFunction(Theta,X,y):\n",
    "    m = y.size\n",
    "    h = sigmoid(np.dot(X,Theta))\n",
    "    J = -1*(1/m)*(np.log(h).T.dot(y)+np.log(1-h).T.dot(1-y))\n",
    "    return J[0]"
   ]
  },
  {
   "cell_type": "code",
   "execution_count": 20,
   "metadata": {
    "collapsed": true
   },
   "outputs": [],
   "source": [
    "def computeCostReg(theta, lamb, X, y):\n",
    "    m = len(y)\n",
    "    normal_cost = costFunction(theta, X, y)\n",
    "    reg_penalty = lamb/(2*m) * np.sum(theta[1:] * theta[1:])\n",
    "    return normal_cost + reg_penalty"
   ]
  },
  {
   "cell_type": "code",
   "execution_count": 21,
   "metadata": {
    "collapsed": false
   },
   "outputs": [
    {
     "data": {
      "text/plain": [
       "array([ 0.69314718])"
      ]
     },
     "execution_count": 21,
     "metadata": {},
     "output_type": "execute_result"
    }
   ],
   "source": [
    "computeCostReg(initial_theta,1,X,y)"
   ]
  },
  {
   "cell_type": "code",
   "execution_count": 22,
   "metadata": {
    "collapsed": false
   },
   "outputs": [],
   "source": [
    "def gradientStepReg(theta, lamb, X, y):\n",
    "    m = len(y)\n",
    "    h = sigmoid(np.dot(X,theta))\n",
    "    step_vector = np.zeros_like(theta)\n",
    "    J_history = np.zeros(1000000)\n",
    "    for j in range(len(step_vector)):\n",
    "        step_vector[j] = 1/m * np.sum((h - y) * X[j])\n",
    "        \n",
    "        if j != 0:\n",
    "            step_vector[j] += lamb/m * theta[j]\n",
    "    \n",
    "    return step_vector.flatten()\n",
    "import copy\n",
    "def gradientDescent(Theta, lamb, x,y,num_iters=1000000):\n",
    "    alpha=0.01\n",
    "    m = y.size\n",
    "    theta_for_reg = copy.deepcopy(Theta)\n",
    "    theta_for_reg[0] = 0\n",
    "    J_history = np.zeros(num_iters)\n",
    "    for iter in  np.arange(num_iters):      \n",
    "        h = sigmoid(np.dot(x,Theta))\n",
    "        Theta = Theta - alpha*(1/m)* (x.T.dot(h-y)) -(lamb / m) * theta_for_reg\n",
    "        J_history[iter]= computeCostReg(Theta, lamb, x, y)\n",
    "    return Theta, J_history\n",
    "\n",
    "\n",
    "def reg_grad(theta, x, y):\n",
    "    h = sigmoid(np.dot(x,theta))\n",
    "    m = len(y)\n",
    "    lamb=1\n",
    "    ans = ((1/m) * (h - y).T.dot(x)) + (lamb/m * theta.T)\n",
    "    return ans.flatten()"
   ]
  },
  {
   "cell_type": "code",
   "execution_count": 23,
   "metadata": {
    "collapsed": false
   },
   "outputs": [],
   "source": [
    "NewTheta,Cost_J = gradientDescent(initial_theta,1,X,y)\n",
    "\n",
    "#print('\\nInitial thetas\\n', reg_grad(initial_theta, X, y))"
   ]
  },
  {
   "cell_type": "code",
   "execution_count": 54,
   "metadata": {
    "collapsed": false
   },
   "outputs": [],
   "source": [
    "#print('\\nInitial thetas\\n',NewTheta)\n",
    "#Newtheta =gradientStepReg(initial_theta,1,X,y)"
   ]
  },
  {
   "cell_type": "code",
   "execution_count": 25,
   "metadata": {
    "collapsed": false
   },
   "outputs": [
    {
     "name": "stdout",
     "output_type": "stream",
     "text": [
      "[ 2.32245031]\n"
     ]
    }
   ],
   "source": [
    "print(computeCostReg(NewTheta,1,X,y))"
   ]
  },
  {
   "cell_type": "code",
   "execution_count": 62,
   "metadata": {
    "collapsed": false
   },
   "outputs": [
    {
     "data": {
      "image/png": "[encoded data removed]",
      "text/plain": [
       "<matplotlib.figure.Figure at 0x1ef85b59be0>"
      ]
     },
     "execution_count": 62,
     "metadata": {},
     "output_type": "execute_result"
    },
    {
     "data": {
      "image/png": "[encoded data removed]",
      "text/plain": [
       "<matplotlib.figure.Figure at 0x1ef85b59be0>"
      ]
     },
     "metadata": {},
     "output_type": "display_data"
    }
   ],
   "source": [
    "u1 = np.linspace(-1,1.5,50)\n",
    "u2 = np.linspace(-1,1.5,50)\n",
    "\n",
    "U1,U2 = np.meshgrid(u1,u2)\n",
    "degree = 6\n",
    "\n",
    "Z = np.zeros((len(u1),len(u2)))\n",
    "k = 0\n",
    "for i in range(0,degree+1):\n",
    "        for j in range(0,i+1):\n",
    "            Z = Z + (((U1 ** (i-j)) * (U2 ** j)) * NewTheta[k])\n",
    "            k += 1\n",
    "\n",
    "            \n",
    "\n",
    "positive = df[df['Result'] == 1]\n",
    "negative = df[df['Result'] == 0]\n",
    "\n",
    "fig, ax = plt.subplots()\n",
    "ax.scatter(positive['exam1'], positive['exam2'], s=50, c='b', marker='o', label='Admitted')\n",
    "ax.scatter(negative['exam1'], negative['exam2'], s=50, c='r', marker='x', label='Not Admitted')\n",
    "ax.legend()\n",
    "ax.set_xlabel('Exam 1 Score')\n",
    "ax.set_ylabel('Exam 2 Score')\n",
    "\n",
    "\n",
    "\n",
    "ax.set_xlim(-1,1.5)\n",
    "ax.set_ylim(-1,1.5)\n",
    "ax.contour(U1,U2,Z,1)\n",
    "ax.set_title(r'Training data with decision boundary ($\\lambda = 1$)',fontsize=18)\n",
    "ax.figure"
   ]
  },
  {
   "cell_type": "code",
   "execution_count": null,
   "metadata": {
    "collapsed": false
   },
   "outputs": [],
   "source": []
  },
  {
   "cell_type": "code",
   "execution_count": null,
   "metadata": {
    "collapsed": true
   },
   "outputs": [],
   "source": []
  },
  {
   "cell_type": "code",
   "execution_count": null,
   "metadata": {
    "collapsed": true
   },
   "outputs": [],
   "source": []
  }
 ],
 "metadata": {
  "kernelspec": {
   "display_name": "Python 3",
   "language": "python",
   "name": "python3"
  },
  "language_info": {
   "codemirror_mode": {
    "name": "ipython",
    "version": 3
   },
   "file_extension": ".py",
   "mimetype": "text/x-python",
   "name": "python",
   "nbconvert_exporter": "python",
   "pygments_lexer": "ipython3",
   "version": "3.6.0"
  }
 },
 "nbformat": 4,
 "nbformat_minor": 2
}
