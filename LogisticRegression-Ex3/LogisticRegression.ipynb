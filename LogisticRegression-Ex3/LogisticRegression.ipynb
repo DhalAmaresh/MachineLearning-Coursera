{
 "cells": [
  {
   "cell_type": "code",
   "execution_count": 16,
   "metadata": {
    "collapsed": true
   },
   "outputs": [],
   "source": [
    "import matplotlib.pyplot as plt\n",
    "import pandas as pd\n",
    "import numpy as np\n",
    "from scipy.optimize import minimize\n",
    "#do plotting inline instead of in a seperate window.\n",
    "%matplotlib inline"
   ]
  },
  {
   "cell_type": "code",
   "execution_count": 2,
   "metadata": {
    "collapsed": false
   },
   "outputs": [
    {
     "data": {
      "text/html": [
       "<div>\n",
       "<table border=\"1\" class=\"dataframe\">\n",
       "  <thead>\n",
       "    <tr style=\"text-align: right;\">\n",
       "      <th></th>\n",
       "      <th>exam1</th>\n",
       "      <th>exam2</th>\n",
       "      <th>Result</th>\n",
       "    </tr>\n",
       "  </thead>\n",
       "  <tbody>\n",
       "    <tr>\n",
       "      <th>0</th>\n",
       "      <td>34.623660</td>\n",
       "      <td>78.024693</td>\n",
       "      <td>0</td>\n",
       "    </tr>\n",
       "    <tr>\n",
       "      <th>1</th>\n",
       "      <td>30.286711</td>\n",
       "      <td>43.894998</td>\n",
       "      <td>0</td>\n",
       "    </tr>\n",
       "  </tbody>\n",
       "</table>\n",
       "</div>"
      ],
      "text/plain": [
       "       exam1      exam2  Result\n",
       "0  34.623660  78.024693       0\n",
       "1  30.286711  43.894998       0"
      ]
     },
     "execution_count": 2,
     "metadata": {},
     "output_type": "execute_result"
    }
   ],
   "source": [
    "df = pd.read_csv(\"C:\\\\Users\\\\dhala\\\\Desktop\\\\Coursera\\\\ML-Week3\\\\ex2\\\\ex2data1.txt\",names =['exam1','exam2','Result'])\n",
    "df.shape\n",
    "df.head(2)"
   ]
  },
  {
   "cell_type": "code",
   "execution_count": 3,
   "metadata": {
    "collapsed": false
   },
   "outputs": [],
   "source": [
    "#positive = df[df['result'].isin([1])]\n",
    "#negative = df[df['result'].isin([0])]\n",
    "positive = df[df['Result'] == 1]\n",
    "negative = df[df['Result'] == 0]\n",
    "\n"
   ]
  },
  {
   "cell_type": "code",
   "execution_count": 4,
   "metadata": {
    "collapsed": false
   },
   "outputs": [
    {
     "data": {
      "text/plain": [
       "<matplotlib.text.Text at 0x2828d9d1c18>"
      ]
     },
     "execution_count": 4,
     "metadata": {},
     "output_type": "execute_result"
    },
    {
     "data": {
      "image/png": "[encoded data removed]",
      "text/plain": [
       "<matplotlib.figure.Figure at 0x2828d934ba8>"
      ]
     },
     "metadata": {},
     "output_type": "display_data"
    }
   ],
   "source": [
    "fig, ax = plt.subplots()\n",
    "\n",
    "ax.scatter(positive['exam1'], positive['exam2'], s=50, c='b', marker='o', label='Admitted')\n",
    "ax.scatter(negative['exam1'], negative['exam2'], s=50, c='r', marker='x', label='Not Admitted')\n",
    "ax.legend()\n",
    "ax.set_xlabel('Exam 1 Score')\n",
    "ax.set_ylabel('Exam 2 Score')"
   ]
  },
  {
   "cell_type": "code",
   "execution_count": 5,
   "metadata": {
    "collapsed": false
   },
   "outputs": [],
   "source": [
    "df['Name'] = 1\n",
    "data = {'Bias':df['Name'],'exam1':df['exam1'],'exam2':df['exam2'],'Result':df['Result']}\n",
    "df = pd.DataFrame(data)\n",
    "X = df.as_matrix(columns = ['Bias','exam1','exam2'])\n",
    "y = df.as_matrix(columns = ['Result'])\n",
    "\n",
    "\n",
    "initial_theta = np.zeros((X.shape[1],1))"
   ]
  },
  {
   "cell_type": "code",
   "execution_count": 6,
   "metadata": {
    "collapsed": true
   },
   "outputs": [],
   "source": [
    "def sigmoid(Z):\n",
    "    return 1/(1+ np.exp(-Z))"
   ]
  },
  {
   "cell_type": "code",
   "execution_count": 7,
   "metadata": {
    "collapsed": false
   },
   "outputs": [],
   "source": [
    "def h(X,Theta):\n",
    "    return sigmoid(np.dot(X,Theta))\n",
    "    "
   ]
  },
  {
   "cell_type": "code",
   "execution_count": 8,
   "metadata": {
    "collapsed": false
   },
   "outputs": [
    {
     "data": {
      "text/plain": [
       "[<matplotlib.lines.Line2D at 0x2828da61358>]"
      ]
     },
     "execution_count": 8,
     "metadata": {},
     "output_type": "execute_result"
    },
    {
     "data": {
      "image/png": "[encoded data removed]",
      "text/plain": [
       "<matplotlib.figure.Figure at 0x2828ddc92e8>"
      ]
     },
     "metadata": {},
     "output_type": "display_data"
    }
   ],
   "source": [
    "nums = np.arange(-5,5, step=1)\n",
    "fig, ax = plt.subplots(figsize=(5,5))\n",
    "ax.plot(nums, sigmoid(nums), 'r')"
   ]
  },
  {
   "cell_type": "markdown",
   "metadata": {},
   "source": []
  },
  {
   "cell_type": "code",
   "execution_count": 9,
   "metadata": {
    "collapsed": false
   },
   "outputs": [
    {
     "name": "stdout",
     "output_type": "stream",
     "text": [
      "[ 0.69314718]\n"
     ]
    }
   ],
   "source": [
    "def costFunction(Theta,X,y):\n",
    "    m = y.size\n",
    "    h = sigmoid(np.dot(X,Theta))\n",
    "    J = -1*(1/m)*(np.log(h).T.dot(y)+np.log(1-h).T.dot(1-y))\n",
    "    return J[0]\n",
    "\n",
    "cost = costFunction(initial_theta, X, y)\n",
    "print(cost)"
   ]
  },
  {
   "cell_type": "code",
   "execution_count": 10,
   "metadata": {
    "collapsed": false
   },
   "outputs": [
    {
     "name": "stdout",
     "output_type": "stream",
     "text": [
      "Grad: \n",
      " [ -0.1        -12.00921659 -11.26284221]\n"
     ]
    }
   ],
   "source": [
    "def gradientDescent(x,y,Theta,num_iters=2000000):\n",
    "    alpha=0.01\n",
    "    m = y.size\n",
    "    J_history = np.zeros(num_iters)\n",
    "    for iter in  np.arange(num_iters):      \n",
    "        h = sigmoid(np.dot(X,Theta))\n",
    "        Theta = Theta - alpha*(1/m)* (x.T.dot(h-y))\n",
    "        J_history[iter]= costFunction(Theta,x,y)\n",
    "    return Theta, J_history\n",
    "\n",
    "def gradient(theta, X, y):\n",
    "    m = y.size\n",
    "    h = sigmoid(np.dot(X,theta))\n",
    "    grad =(1/m)*X.T.dot(h-y)\n",
    "    return(grad.flatten())\n",
    "\n",
    "grad = gradient(initial_theta, X, y)\n",
    "print('Grad: \\n', grad)\n",
    "\n",
    "\n"
   ]
  },
  {
   "cell_type": "code",
   "execution_count": 28,
   "metadata": {
    "collapsed": false
   },
   "outputs": [
    {
     "name": "stderr",
     "output_type": "stream",
     "text": [
      "C:\\Users\\dhala\\AppData\\Local\\Continuum\\Anaconda3\\lib\\site-packages\\ipykernel\\__main__.py:4: RuntimeWarning: divide by zero encountered in log\n"
     ]
    },
    {
     "name": "stdout",
     "output_type": "stream",
     "text": [
      "[[-60.23573227]\n",
      " [  0.49806822]\n",
      " [  0.49110936]]\n"
     ]
    }
   ],
   "source": [
    "NewTheta ,Cost_J = gradientDescent(X, y,initial_theta)\n",
    "print(NewTheta)"
   ]
  },
  {
   "cell_type": "code",
   "execution_count": 29,
   "metadata": {
    "collapsed": false
   },
   "outputs": [
    {
     "name": "stdout",
     "output_type": "stream",
     "text": [
      "Optimization terminated successfully.\n",
      "         Current function value: 0.203498\n",
      "         Iterations: 157\n",
      "         Function evaluations: 287\n",
      "(array([-25.16130062,   0.20623142,   0.20147143]), 0.20349770159021519, 157, 287, 0)\n"
     ]
    }
   ],
   "source": [
    "from scipy import optimize\n",
    "result = optimize.fmin(costFunction, x0=initial_theta, args=(X, y), maxiter=400, full_output=True)\n",
    "print(result)"
   ]
  },
  {
   "cell_type": "code",
   "execution_count": null,
   "metadata": {
    "collapsed": false
   },
   "outputs": [],
   "source": [
    "print(costFunction(NewTheta, X, y))"
   ]
  },
  {
   "cell_type": "code",
   "execution_count": 30,
   "metadata": {
    "collapsed": false
   },
   "outputs": [
    {
     "data": {
      "text/plain": [
       "[<matplotlib.lines.Line2D at 0x2828df37828>]"
      ]
     },
     "execution_count": 30,
     "metadata": {},
     "output_type": "execute_result"
    },
    {
     "data": {
      "image/png": "[encoded data removed]",
      "text/plain": [
       "<matplotlib.figure.Figure at 0x2828f0929b0>"
      ]
     },
     "metadata": {},
     "output_type": "display_data"
    }
   ],
   "source": [
    "xx = np.arange(100, 100)\n",
    "lineplot = [(-NewTheta[0]-NewTheta[1]*x)/NewTheta[2] for x in range(100)]\n",
    "fig, ax = plt.subplots(figsize=(10,10))\n",
    "ax.scatter(positive['exam1'], positive['exam2'], s=50, c='r', marker='x', label='Admitted')\n",
    "ax.scatter(negative['exam1'], negative['exam2'], s=50, c='b', marker='o', label='Not Admitted')\n",
    "ax.legend()\n",
    "#plt.plot(xx,fit,c='b')\n",
    "ax.set_xlabel('Exam 1 Score')\n",
    "ax.set_ylabel('Exam 2 Score')\n",
    "plt.plot(lineplot)\n"
   ]
  },
  {
   "cell_type": "code",
   "execution_count": 31,
   "metadata": {
    "collapsed": false
   },
   "outputs": [
    {
     "name": "stdout",
     "output_type": "stream",
     "text": [
      "[ 0.98057604]\n"
     ]
    }
   ],
   "source": [
    "print(h(np.array([1, 45.,85.]),NewTheta))"
   ]
  },
  {
   "cell_type": "code",
   "execution_count": 32,
   "metadata": {
    "collapsed": false
   },
   "outputs": [],
   "source": [
    "def predict(theta, x): \n",
    "    m = X.shape[0]\n",
    "    p = np.zeros((m,1))\n",
    "    n = X.shape[1]\n",
    "    theta = theta.reshape((n,1))\n",
    "    h_theta = sigmoid(np.dot(X,NewTheta))\n",
    "    for i in range(0, h_theta.shape[0]):\n",
    "        if h_theta[i] > 0.5:\n",
    "            p[i, 0] = 1\n",
    "        else:\n",
    "            p[i, 0] = 0\n",
    "    return p"
   ]
  },
  {
   "cell_type": "code",
   "execution_count": 33,
   "metadata": {
    "collapsed": false
   },
   "outputs": [
    {
     "name": "stdout",
     "output_type": "stream",
     "text": [
      "Train Accuracy: 90.0\n"
     ]
    }
   ],
   "source": [
    "p = predict(NewTheta, X)\n",
    "print('Train Accuracy:', (y[p == y].size / float(y.size)) * 100.0)"
   ]
  },
  {
   "cell_type": "code",
   "execution_count": null,
   "metadata": {
    "collapsed": true
   },
   "outputs": [],
   "source": []
  }
 ],
 "metadata": {
  "kernelspec": {
   "display_name": "Python 3",
   "language": "python",
   "name": "python3"
  },
  "language_info": {
   "codemirror_mode": {
    "name": "ipython",
    "version": 3
   },
   "file_extension": ".py",
   "mimetype": "text/x-python",
   "name": "python",
   "nbconvert_exporter": "python",
   "pygments_lexer": "ipython3",
   "version": "3.6.0"
  }
 },
 "nbformat": 4,
 "nbformat_minor": 2
}
